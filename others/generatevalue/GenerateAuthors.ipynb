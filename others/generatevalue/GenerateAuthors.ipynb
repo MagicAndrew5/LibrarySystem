{
 "cells": [
  {
   "cell_type": "code",
   "execution_count": 8,
   "metadata": {},
   "outputs": [],
   "source": [
    "import csv\n",
    "import random"
   ]
  },
  {
   "cell_type": "code",
   "execution_count": 9,
   "metadata": {},
   "outputs": [],
   "source": [
    "example = {\n",
    "    \"id\": 1,\n",
    "    \"birth_date\" : \"01/01/2000\",\n",
    "    \"name\" : \"John\",\n",
    "    \"nationality\": \"Spanish\",\n",
    "    \"surname\": \"Doe\",\n",
    "}\n",
    "\n",
    "name = [\n",
    "    \"Emily\", \"Daniel\", \"Sarah\", \"Chris\",\n",
    "    \"Jessica\", \"Brian\", \"Rachel\", \"Jhon\",\n",
    "    \"Olivia\", \"Megan\", \"Eric\", \"Brandon\",\n",
    "    \"Amelia\",\n",
    "]\n",
    "\n",
    "surname = [\n",
    "    \"Clarke\", \"Mitch\", \"John\", \"White\", \"Davis\", \"Taylor\", \"Turner\", \"Lee\",\n",
    "    \"Robin\", \"Harris\", \"Parker\", \"Wood\",\n",
    "    \"Lewis\",\n",
    "]\n",
    "\n",
    "nationality = [\n",
    "    \"Italian\", \"English\", \"French\", \"Spanish\", \"German\", \"Russian\",\n",
    "    \"Chinese\", \"Japanese\", \"Korean\", \"Indian\", \"Brazilian\", \"Mexican\",\n",
    "]\n"
   ]
  },
  {
   "cell_type": "code",
   "execution_count": 10,
   "metadata": {},
   "outputs": [],
   "source": [
    "authors = []"
   ]
  },
  {
   "cell_type": "code",
   "execution_count": 11,
   "metadata": {},
   "outputs": [],
   "source": [
    "for i in range(1, 13):\n",
    "    birth_date = f\"{random.randint(1, 28)}/{random.randint(1, 12)}/{random.randint(1900, 2000)}\"\n",
    "\n",
    "    author = [\n",
    "        i,\n",
    "        birth_date,\n",
    "        name[i-1],\n",
    "        nationality[random.randint(0, len(nationality)-1)],  # Random nationality\n",
    "        surname[i-1],\n",
    "    ]\n",
    "\n",
    "    authors.append(author)"
   ]
  },
  {
   "cell_type": "code",
   "execution_count": 12,
   "metadata": {},
   "outputs": [],
   "source": [
    "with open(\"author.csv\", \"w\", newline=\"\", encoding='utf-8') as csvfile:\n",
    "    writer = csv.writer(csvfile)\n",
    "    writer.writerow([\"id\", \"birth_date\", \"name\", \"nationality\", \"surname\"])\n",
    "    writer.writerows(authors)"
   ]
  }
 ],
 "metadata": {
  "kernelspec": {
   "display_name": "Python 3",
   "language": "python",
   "name": "python3"
  },
  "language_info": {
   "codemirror_mode": {
    "name": "ipython",
    "version": 3
   },
   "file_extension": ".py",
   "mimetype": "text/x-python",
   "name": "python",
   "nbconvert_exporter": "python",
   "pygments_lexer": "ipython3",
   "version": "3.12.1"
  }
 },
 "nbformat": 4,
 "nbformat_minor": 2
}
