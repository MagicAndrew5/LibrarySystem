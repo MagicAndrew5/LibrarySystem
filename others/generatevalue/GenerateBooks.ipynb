{
 "cells": [
  {
   "cell_type": "code",
   "execution_count": 24,
   "metadata": {},
   "outputs": [],
   "source": [
    "import csv\n",
    "import random"
   ]
  },
  {
   "cell_type": "code",
   "execution_count": 25,
   "metadata": {},
   "outputs": [],
   "source": [
    "example = {\n",
    "    \"file_sizemb\": 10,\n",
    "    \"genre_id\": 1,\n",
    "    \"isbn\": \"9788804680398\",\n",
    "    \"book_type\": \"Book\",\n",
    "    \"author\": \"Andrea Camilleri\",\n",
    "    \"publisher\": \"Mondadori\",\n",
    "    \"title\": \"La banda Sacco\",\n",
    "    \"format\": \"PDF\",\n",
    "}\n",
    "\n",
    "authors = [\n",
    "    \"Emily Clarke\", \"Daniel Mitch\", \"Sarah John\", \"Chris White\",\n",
    "    \"Jessica Davis\", \"Brian Taylor\", \"Rachel Turner\", \"Jhon Lee\",\n",
    "    \"Olivia Robin\", \"Megan Harris\", \"Eric Parker\", \"Brandon Wood\",\n",
    "    \"Amelia Lewis\",\n",
    "]\n",
    "\n",
    "formats = [\n",
    "    \"PDF\", \"EPUB\", \"MOBI\", \"AZW\", \"AZW3\", \"DOCX\",\n",
    "]\n",
    "\n",
    "titles = [\n",
    "    \"Shadow\", \"Eternal\", \"Stars\", \"Winds\", \"Horizon\", \"Silent Echo\",\n",
    "    \"Embrace\", \"Sky\", \"Illusions\", \"Dark\", \"Hidden Secrets\", \"Fragile\",\n",
    "    \"Sands\", \"Sunset\", \"Memories\",\n",
    "]\n",
    "\n",
    "book_types = [\n",
    "    \"Book\", \"EBook\",\n",
    "]\n",
    "\n",
    "publishers = [\n",
    "    \"Mondadori\", \"Feltrinelli\", \"Rizzoli\", \"Giunti\", \"Einaudi\", \"Salani\",\n",
    "    \"RCS\", \"De Agostini\", \"Mursia\",\n",
    "]\n"
   ]
  },
  {
   "cell_type": "code",
   "execution_count": 26,
   "metadata": {},
   "outputs": [],
   "source": [
    "books = []"
   ]
  },
  {
   "cell_type": "code",
   "execution_count": 27,
   "metadata": {},
   "outputs": [],
   "source": [
    "for i in range(1, 25):\n",
    "    rand_file_size = random.randint(10, 20)\n",
    "    rand_genre = random.randint(1, 6)\n",
    "    rand_isbn = random.randint(1000000000000, 9999999999999)\n",
    "    rand_book_type = random.randint(0, 1)\n",
    "    rand_author = random.randint(0, 11)\n",
    "    rand_publisher = random.randint(0, 8)\n",
    "    rand_title = random.randint(0, 14)\n",
    "    rand_format = random.randint(0, 5)\n",
    "\n",
    "    book = [\n",
    "        rand_file_size,\n",
    "        rand_genre,\n",
    "        rand_isbn,\n",
    "        book_types[rand_book_type],\n",
    "        authors[rand_author],\n",
    "        publishers[rand_publisher],\n",
    "        titles[rand_title],\n",
    "        formats[rand_format],\n",
    "    ]\n",
    "\n",
    "\n",
    "    books.append(book)"
   ]
  },
  {
   "cell_type": "code",
   "execution_count": 28,
   "metadata": {},
   "outputs": [],
   "source": [
    "with open(\"booksR.csv\", \"w\", newline=\"\", encoding='utf-8') as csvfile:\n",
    "    writer = csv.writer(csvfile)\n",
    "    writer.writerow([\"file_sizemb\", \"genre_id\", \"isbn\", \"book_type\", \"author\", \"publisher\", \"title\", \"format\"])\n",
    "    writer.writerows(books)"
   ]
  }
 ],
 "metadata": {
  "kernelspec": {
   "display_name": "Python 3",
   "language": "python",
   "name": "python3"
  },
  "language_info": {
   "codemirror_mode": {
    "name": "ipython",
    "version": 3
   },
   "file_extension": ".py",
   "mimetype": "text/x-python",
   "name": "python",
   "nbconvert_exporter": "python",
   "pygments_lexer": "ipython3",
   "version": "3.12.1"
  }
 },
 "nbformat": 4,
 "nbformat_minor": 2
}
